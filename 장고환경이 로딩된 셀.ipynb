{
 "cells": [
  {
   "cell_type": "code",
   "execution_count": 3,
   "metadata": {},
   "outputs": [],
   "source": [
    "from shop.models import Shop, Category, Item"
   ]
  },
  {
   "cell_type": "code",
   "execution_count": 4,
   "metadata": {},
   "outputs": [],
   "source": [
    "import json"
   ]
  },
  {
   "cell_type": "code",
   "execution_count": 5,
   "metadata": {},
   "outputs": [
    {
     "data": {
      "text/plain": [
       "20"
      ]
     },
     "execution_count": 5,
     "metadata": {},
     "output_type": "execute_result"
    }
   ],
   "source": [
    "with open('shop_list.json', 'rt', encoding='utf-8') as f:\n",
    "    json_string = f.read()\n",
    "    shop_list = json.loads(json_string)\n",
    "\n",
    "len(shop_list)"
   ]
  },
  {
   "cell_type": "code",
   "execution_count": 8,
   "metadata": {},
   "outputs": [
    {
     "name": "stdout",
     "output_type": "stream",
     "text": [
      "족발보쌈EXPRESS-군자점 37.5489836999393,127.0705366 서울 광진구 군자동 360-23\n",
      "공수간-광진군자점 37.557106,127.0771638 서울 광진구 군자동 471-13 1층\n",
      "60계-구의광장점 37.5386809791316,127.095836859219 서울 광진구 구의동 611 구의현대2단지 종합상가 지층 114호\n",
      "놀부옛날통닭-군자점 37.5489836999393,127.0705366 서울 광진구 군자동 360-23\n",
      "7번가피자-구의점 37.5476028,127.0878279 서울 광진구 구의동 80-8 1층\n",
      "KFC-세종대점 37.5472166426971,127.073569298591 서울 광진구 화양동 225\n",
      "피자샵-자양성수점 37.5372142,127.0798521 서울 광진구 자양동 222-8 1층\n",
      "BHC-구의역점 37.5374739,127.0843067 서울 광진구 구의동 246-31\n",
      "꼬꼬봉투통닭-중곡점 37.5619636,127.083376 서울 광진구 중곡동 39-51 1층\n",
      "홍닭 37.5491851003784,127.072169033774 서울 광진구 군자동 362-17 1층\n",
      "피자나라치킨공주(자양점) 37.5324453888417,127.076372946302 서울 광진구 자양동 608-31\n",
      "후레쉬팩토리-광진점 37.5471537,127.073088 서울 광진구 화양동 213 지하\n",
      "BHC-광나루점 37.5425784,127.0962915 서울 광진구 광장동 566 103호 (청구상가)\n",
      "명품광어 37.5381949769311,127.091414174238 서울 광진구 구의동 245-26 1층\n",
      "천하대만족-중곡점 37.5557985,127.0889371 서울 광진구 중곡동 92-23 1층\n",
      "참살이임실치즈피자 37.5378618,127.0790215 서울 광진구 자양1동 773-9\n",
      "요리왕 37.5381341,127.0695051 서울 광진구 자양4동 2-53\n",
      "롯데리아-구의역점 37.5363814,127.0841259 서울 광진구 자양동 216-21 1층 2호\n",
      "위대한치킨(24시) 37.5682956,127.0858896 서울 광진구 중곡동 16\n",
      "롯데리아-건대역점 37.5407068,127.0714389 서울 광진구 화양동 4-20\n"
     ]
    }
   ],
   "source": [
    "for shop in shop_list:\n",
    "    print('{name} {lat},{lng} {address}'. format(**shop))"
   ]
  },
  {
   "cell_type": "code",
   "execution_count": null,
   "metadata": {},
   "outputs": [],
   "source": []
  }
 ],
 "metadata": {
  "kernelspec": {
   "display_name": "Django Shell-Plus",
   "language": "python",
   "name": "django_extensions"
  },
  "language_info": {
   "codemirror_mode": {
    "name": "ipython",
    "version": 3
   },
   "file_extension": ".py",
   "mimetype": "text/x-python",
   "name": "python",
   "nbconvert_exporter": "python",
   "pygments_lexer": "ipython3",
   "version": "3.6.0"
  }
 },
 "nbformat": 4,
 "nbformat_minor": 2
}
