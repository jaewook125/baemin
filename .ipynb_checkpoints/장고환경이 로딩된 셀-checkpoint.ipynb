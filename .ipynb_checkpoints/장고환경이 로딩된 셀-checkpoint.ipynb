{
 "cells": [
  {
   "cell_type": "code",
   "execution_count": 8,
   "metadata": {},
   "outputs": [],
   "source": [
    "from shop.models import Shop, Category, Item"
   ]
  },
  {
   "cell_type": "code",
   "execution_count": 9,
   "metadata": {},
   "outputs": [],
   "source": [
    "카테고리_치킨 = Category.objects.get(name='치킨')"
   ]
  },
  {
   "cell_type": "code",
   "execution_count": 10,
   "metadata": {},
   "outputs": [],
   "source": [
    "import json"
   ]
  },
  {
   "cell_type": "code",
   "execution_count": 11,
   "metadata": {},
   "outputs": [
    {
     "data": {
      "text/plain": [
       "20"
      ]
     },
     "execution_count": 11,
     "metadata": {},
     "output_type": "execute_result"
    }
   ],
   "source": [
    "with open('shop_list.json', 'rt', encoding='utf-8') as f:\n",
    "    json_string = f.read()\n",
    "    shop_list = json.loads(json_string)\n",
    "\n",
    "len(shop_list)"
   ]
  },
  {
   "cell_type": "code",
   "execution_count": 14,
   "metadata": {},
   "outputs": [],
   "source": [
    "obj_list = []\n",
    "for meta in shop_list:\n",
    "#     print('{name} {lat},{lng} {address}'. format(**meta))\n",
    "    name = meta['name']\n",
    "    latlng = '{lat},{lng}'.format(**meta)\n",
    "    shop = Shop(category=카테고리_치킨, name=name, desc='', latlng=latlng, meta=meta)\n",
    "#    shop.save 20개의 인스턴트 쿼리 반복 비효율적 \n",
    "    obj_list.append(shop)"
   ]
  },
  {
   "cell_type": "code",
   "execution_count": 17,
   "metadata": {},
   "outputs": [
    {
     "data": {
      "text/plain": [
       "[<Shop: 족발보쌈EXPRESS-군자점>,\n",
       " <Shop: 공수간-광진군자점>,\n",
       " <Shop: 60계-구의광장점>,\n",
       " <Shop: 놀부옛날통닭-군자점>,\n",
       " <Shop: 7번가피자-구의점>,\n",
       " <Shop: KFC-세종대점>,\n",
       " <Shop: 피자샵-자양성수점>,\n",
       " <Shop: BHC-구의역점>,\n",
       " <Shop: 꼬꼬봉투통닭-중곡점>,\n",
       " <Shop: 홍닭>,\n",
       " <Shop: 피자나라치킨공주(자양점)>,\n",
       " <Shop: 후레쉬팩토리-광진점>,\n",
       " <Shop: BHC-광나루점>,\n",
       " <Shop: 명품광어>,\n",
       " <Shop: 천하대만족-중곡점>,\n",
       " <Shop: 참살이임실치즈피자>,\n",
       " <Shop: 요리왕>,\n",
       " <Shop: 롯데리아-구의역점>,\n",
       " <Shop: 위대한치킨(24시)>,\n",
       " <Shop: 롯데리아-건대역점>]"
      ]
     },
     "execution_count": 17,
     "metadata": {},
     "output_type": "execute_result"
    }
   ],
   "source": [
    "Shop.objects.bulk_create(obj_list)\n",
    "#하나의 sql에 여러 인스턴트 쿼리를 뭉처서 db로 전달"
   ]
  },
  {
   "cell_type": "code",
   "execution_count": null,
   "metadata": {},
   "outputs": [],
   "source": []
  }
 ],
 "metadata": {
  "kernelspec": {
   "display_name": "Django Shell-Plus",
   "language": "python",
   "name": "django_extensions"
  },
  "language_info": {
   "codemirror_mode": {
    "name": "ipython",
    "version": 3
   },
   "file_extension": ".py",
   "mimetype": "text/x-python",
   "name": "python",
   "nbconvert_exporter": "python",
   "pygments_lexer": "ipython3",
   "version": "3.6.0"
  }
 },
 "nbformat": 4,
 "nbformat_minor": 2
}
